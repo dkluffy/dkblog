{
 "cells": [
  {
   "cell_type": "code",
   "execution_count": null,
   "metadata": {
    "collapsed": true
   },
   "outputs": [],
   "source": [
    "import (\n",
    "\t\"fmt\"\n",
    "\t\"math\"\n",
    "    \"runtime\"\n",
    ")\n",
    "\n"
   ]
  },
  {
   "cell_type": "code",
   "execution_count": 43,
   "metadata": {},
   "outputs": [],
   "source": [
    "\n",
    "\n",
    "func split(sum int) (x, y int) { // 类型在变量名之后；当两个或多个连续的函数命名参数是同一类型，\n",
    "                                //则除了最后一个类型之外，其他都可以省略。\n",
    "    x = sum*2\n",
    "    y = sum*3\n",
    "    return            // 这里返回值被命名为sum， return 不加参数直接返回的其实是x,y，不同于python 返回的是空\n",
    "}\n",
    "\n",
    "\n",
    "func varsample(){\n",
    "    var i, j int = 1, 2\n",
    "    var x,y int\n",
    "    k := 3 //函数外的每个语句都必须以关键字开始（`var`、`func`、等等），`:=` 结构不能使用在函数外。\n",
    "}\n",
    "\n",
    "/* 常量的定义与变量类似，只不过使用 const 关键字。\n",
    "\n",
    "常量可以是字符、字符串、布尔或数字类型的值。\n",
    "\n",
    "常量不能使用 := 语法定义。 */\n",
    "\n",
    "const PI=3.14 \n",
    "\n",
    "const (\n",
    "\tBig   = 1 << 100 //数值常量是高精度的\n",
    "\tSmall = Big >> 99\n",
    ")\n",
    "func needInt(x int) int { return x*10 + 1 }\n",
    "func needFloat(x float64) float64 {\n",
    "    return x * 0.1\n",
    "}\n",
    "\n",
    "\n",
    "type Vertex struct {\n",
    "\tLat, Long float64\n",
    "}\n",
    "\n",
    "var m1 map[string]Vertx //map 在使用之前必须用 make 而不是 new 来创建；值为 nil 的 map 是空的，并且不能赋值。\n",
    "//m1 := make(map[string]Vertx)\n",
    "var m = map[string]Vertex{\n",
    "\t\"Bell Labs\": Vertex{\n",
    "\t\t40.68433, -74.39967,\n",
    "\t},\n",
    "\t\"Google\": Vertex{\n",
    "\t\t37.42202, -122.08408,\n",
    "\t},\n",
    "}\n",
    "\n",
    "\n",
    "/*\n",
    "m[\"Answer\"] = 48\n",
    "\tfmt.Println(\"The value:\", m[\"Answer\"])\n",
    "\n",
    "\tdelete(m, \"Answer\")\n",
    "\tfmt.Println(\"The value:\", m[\"Answer\"])\n",
    "\n",
    "\tv, ok := m[\"Answer\"] //通过双赋值检测某个键存在：\n",
    "\n",
    "\tfmt.Println(\"The value:\", v, \"Present?\", ok)\n",
    "*/\n"
   ]
  },
  {
   "cell_type": "code",
   "execution_count": 47,
   "metadata": {},
   "outputs": [
    {
     "name": "stdout",
     "output_type": "stream",
     "text": [
      "3.141592653589793\n",
      "6 9\n",
      "0 0 false \"\"\n",
      "21\n",
      "0.2\n",
      "0\n",
      "[0 1 2]\n",
      "[0 1 2 3 4 5]\n",
      "[3 4 5]\n",
      "[1 2]\n"
     ]
    }
   ],
   "source": [
    "func main(){\n",
    "    fmt.Println(math.Pi) //首字母大写 才会被导出\n",
    "    \n",
    "    fmt.Println(split(3))\n",
    "    \n",
    "    var i int\n",
    "\tvar f float64\n",
    "\tvar b bool\n",
    "\tvar s string\n",
    "\tfmt.Printf(\"%v %v %v %q\\n\", i, f, b, s)\n",
    "    \n",
    "\n",
    "    \n",
    "    fmt.Println(needInt(Small))\n",
    "    //fmt.Println(needInt(Big))\n",
    "\tfmt.Println(needFloat(Small))\n",
    "\tfmt.Println(needFloat(Big))\n",
    "    \n",
    "    \n",
    "    //数组\n",
    "    p := []int{0,1,2,3,4,5}\n",
    "    fmt.Println(p[:3])\n",
    "    fmt.Println(p[:])\n",
    "    fmt.Println(p[3:])\n",
    "    fmt.Println(p[1:3])\n",
    "\n",
    "}\n",
    "\n",
    "main()"
   ]
  },
  {
   "cell_type": "code",
   "execution_count": null,
   "metadata": {
    "collapsed": true
   },
   "outputs": [],
   "source": []
  },
  {
   "cell_type": "code",
   "execution_count": null,
   "metadata": {
    "collapsed": true
   },
   "outputs": [],
   "source": []
  }
 ],
 "metadata": {
  "kernelspec": {
   "display_name": "Go",
   "language": "go",
   "name": "gophernotes"
  },
  "language_info": {
   "codemirror_mode": "",
   "file_extension": ".go",
   "mimetype": "",
   "name": "go",
   "nbconvert_exporter": "",
   "pygments_lexer": "",
   "version": "go1.12.9"
  }
 },
 "nbformat": 4,
 "nbformat_minor": 2
}
